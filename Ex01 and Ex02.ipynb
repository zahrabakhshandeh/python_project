{
 "cells": [
  {
   "cell_type": "code",
   "execution_count": null,
   "metadata": {},
   "outputs": [],
   "source": []
  },
  {
   "cell_type": "markdown",
   "metadata": {},
   "source": []
  },
  {
   "cell_type": "code",
   "execution_count": 3,
   "metadata": {},
   "outputs": [
    {
     "name": "stdout",
     "output_type": "stream",
     "text": [
      "12\n",
      "12\n",
      "1\n",
      "123\n"
     ]
    }
   ],
   "source": [
    "num1 = 12.45\n",
    "num1 = int(num1)\n",
    "print(num1)\n",
    "num2 = \"12.45\"\n",
    "num2 = int(float(num2))\n",
    "print(num2)\n",
    "flag1 = True\n",
    "flag1 = int(flag1)\n",
    "print(flag1)\n",
    "code = \"a123\"\n",
    "# code = int(code)  ====> Error\n",
    "num3 = \"0123\"\n",
    "num3 = int(num3)\n",
    "print(num3)"
   ]
  },
  {
   "cell_type": "code",
   "execution_count": 4,
   "metadata": {},
   "outputs": [
    {
     "name": "stdout",
     "output_type": "stream",
     "text": [
      "10.0\n",
      "4.0\n",
      "4.7\n",
      "51.0\n"
     ]
    }
   ],
   "source": [
    "num4 = 10\n",
    "num4 = float(num4)\n",
    "print(num4)\n",
    "num5 = 4.\n",
    "num5 = float(num5)\n",
    "print(num5)\n",
    "num6 = \"4.7\"\n",
    "num6 = float(num6)\n",
    "print(num6)\n",
    "num7 = \"51\"\n",
    "num7 = float(num7)\n",
    "print(num7)\n",
    "name = \"python\" # Error"
   ]
  },
  {
   "cell_type": "code",
   "execution_count": 5,
   "metadata": {},
   "outputs": [
    {
     "name": "stdout",
     "output_type": "stream",
     "text": [
      "False\n",
      "True\n",
      "False\n",
      "True\n",
      "False\n"
     ]
    }
   ],
   "source": [
    "flag3 = False\n",
    "flag3 = bool(flag3)\n",
    "print(flag3)\n",
    "flag4 = \"False\"\n",
    "flag4 = bool(flag4)\n",
    "print(flag4)\n",
    "# flag5 = false  ===> Error\n",
    "name1 = \"\"\n",
    "name1 = bool(name1)\n",
    "print(name1)\n",
    "name2 = \" \"\n",
    "name2 = bool(name2)\n",
    "print(name2)\n",
    "num8 = 0\n",
    "num8 = bool(num8)\n",
    "print(num8)"
   ]
  },
  {
   "cell_type": "code",
   "execution_count": 6,
   "metadata": {},
   "outputs": [
    {
     "name": "stdout",
     "output_type": "stream",
     "text": [
      "False\n",
      "0.0\n"
     ]
    }
   ],
   "source": [
    "flag = False\n",
    "num = 0.000\n",
    "flag = str(flag)\n",
    "print(flag)\n",
    "num = str(num)\n",
    "print(num)"
   ]
  },
  {
   "cell_type": "markdown",
   "metadata": {},
   "source": [
    "### Q2"
   ]
  },
  {
   "cell_type": "code",
   "execution_count": null,
   "metadata": {},
   "outputs": [],
   "source": [
    "x = \"300\" # x is str\n",
    "y = int(x) # change x from str to int and assign to y\n",
    "z = y + 200 # 300 + 200\n",
    "print(z)\n",
    "a = float(z) # float(500) ===> 500.0\n",
    "b = a + x # 500.0 + \"300\" ====> Error\n",
    "c = int(b) + 100"
   ]
  },
  {
   "cell_type": "code",
   "execution_count": 7,
   "metadata": {},
   "outputs": [
    {
     "name": "stdout",
     "output_type": "stream",
     "text": [
      "500\n",
      "800.0\n",
      "900\n"
     ]
    }
   ],
   "source": [
    "# fix error\n",
    "x = \"300\" # x is str\n",
    "y = int(x) # change x from str to int and assign to y\n",
    "z = y + 200 # 300 + 200\n",
    "print(z)\n",
    "a = float(z) # float(500) ===> 500.0\n",
    "b = a + int(x) # 500.0 + 300 \n",
    "print(b)\n",
    "c = int(b) + 100\n",
    "print(c)"
   ]
  },
  {
   "cell_type": "code",
   "execution_count": 8,
   "metadata": {},
   "outputs": [
    {
     "name": "stdout",
     "output_type": "stream",
     "text": [
      "83\n",
      "83 <class 'str'>\n",
      "41625\n"
     ]
    }
   ],
   "source": [
    "x = \"250\" # x is str\n",
    "y = int(x) # assign int value of x to y\n",
    "z = y // 3 \n",
    "print(z)\n",
    "a = str(z) # change z to str\n",
    "print(a, type(a))\n",
    "b = a + x # sum of two str is join of them\n",
    "c = int(b) // 2 \n",
    "print(c)"
   ]
  },
  {
   "cell_type": "markdown",
   "metadata": {},
   "source": [
    "### Q3"
   ]
  },
  {
   "cell_type": "code",
   "execution_count": 10,
   "metadata": {},
   "outputs": [
    {
     "name": "stdout",
     "output_type": "stream",
     "text": [
      "False\n"
     ]
    }
   ],
   "source": [
    "answer = input(\"your answer: \")\n",
    "print(answer == \"yes\" or answer == \"no\")"
   ]
  },
  {
   "cell_type": "markdown",
   "metadata": {},
   "source": [
    "## Q4"
   ]
  },
  {
   "cell_type": "code",
   "execution_count": 11,
   "metadata": {},
   "outputs": [
    {
     "name": "stdout",
     "output_type": "stream",
     "text": [
      "False\n"
     ]
    }
   ],
   "source": [
    "answer = input(\"your anser: \")\n",
    "print(bool(answer))"
   ]
  },
  {
   "cell_type": "markdown",
   "metadata": {},
   "source": [
    "## Q5"
   ]
  },
  {
   "cell_type": "markdown",
   "metadata": {},
   "source": []
  },
  {
   "cell_type": "markdown",
   "metadata": {},
   "source": [
    "## Q6"
   ]
  },
  {
   "cell_type": "code",
   "execution_count": 12,
   "metadata": {},
   "outputs": [
    {
     "name": "stdout",
     "output_type": "stream",
     "text": [
      "17 1.8 28\n"
     ]
    }
   ],
   "source": [
    "num1, num2, num3 = 17, 1.8, 28\n",
    "print(num1, num2, num3)"
   ]
  },
  {
   "cell_type": "code",
   "execution_count": 3,
   "metadata": {},
   "outputs": [
    {
     "name": "stdout",
     "output_type": "stream",
     "text": [
      "41.0\n"
     ]
    }
   ],
   "source": [
    "c = int(input())\n",
    "f = (9/5 * c) + 32\n",
    "print(f)"
   ]
  },
  {
   "cell_type": "code",
   "execution_count": 14,
   "metadata": {},
   "outputs": [
    {
     "name": "stdout",
     "output_type": "stream",
     "text": [
      "45 12 19\n"
     ]
    }
   ],
   "source": [
    "# num4, num5 = 45, 12, 19\n",
    "# fix error\n",
    "num3, num4, num5 = 45, 12, 19\n",
    "num4, num5 = 12, 19\n",
    "print(num3, num4, num5)"
   ]
  },
  {
   "cell_type": "code",
   "execution_count": 15,
   "metadata": {},
   "outputs": [
    {
     "name": "stdout",
     "output_type": "stream",
     "text": [
      "200 300 400\n"
     ]
    }
   ],
   "source": [
    "#num6, num7, num8 = 200, 300\n",
    "#fix error\n",
    "num6, num7, num8 = 200, 300, 400\n",
    "print(num6, num7, num8)"
   ]
  },
  {
   "cell_type": "code",
   "execution_count": 16,
   "metadata": {},
   "outputs": [
    {
     "name": "stdout",
     "output_type": "stream",
     "text": [
      "Sara 19 True\n"
     ]
    }
   ],
   "source": [
    "name, score, passed = \"Sara\", 19, True\n",
    "print(name, score, passed)"
   ]
  },
  {
   "cell_type": "code",
   "execution_count": 17,
   "metadata": {},
   "outputs": [
    {
     "name": "stdout",
     "output_type": "stream",
     "text": [
      "500 500 500\n"
     ]
    }
   ],
   "source": [
    "var1 = var2 = var3 = 500\n",
    "print(var1, var2, var3)"
   ]
  },
  {
   "cell_type": "code",
   "execution_count": 19,
   "metadata": {},
   "outputs": [
    {
     "name": "stdout",
     "output_type": "stream",
     "text": [
      "30 20\n"
     ]
    }
   ],
   "source": [
    "# replace values of two variable\n",
    "num1 = 20\n",
    "num2 = 30\n",
    "num1, num2 = num2 , num1\n",
    "print(num1, num2)"
   ]
  },
  {
   "cell_type": "markdown",
   "metadata": {},
   "source": [
    "# Ex02"
   ]
  },
  {
   "cell_type": "markdown",
   "metadata": {},
   "source": [
    "### Q1"
   ]
  },
  {
   "cell_type": "code",
   "execution_count": 20,
   "metadata": {},
   "outputs": [
    {
     "name": "stdout",
     "output_type": "stream",
     "text": [
      "yes\n"
     ]
    }
   ],
   "source": [
    "chr1 = input(\"a chr: \")\n",
    "if chr1 == \"a\" or chr1 == \"i\" or chr1 == \"o\" or chr1 == \"a\" or chr1 == \"u\" or chr1 == \"e\":\n",
    "  print(\"yes\")\n",
    "else:\n",
    "  print(\"no\")"
   ]
  },
  {
   "cell_type": "markdown",
   "metadata": {},
   "source": [
    "## Q2"
   ]
  },
  {
   "cell_type": "code",
   "execution_count": 21,
   "metadata": {},
   "outputs": [
    {
     "name": "stdout",
     "output_type": "stream",
     "text": [
      "in range\n"
     ]
    }
   ],
   "source": [
    "number = int(input())\n",
    "if 10 <= number <= 20:\n",
    "  print(\"in range\")\n",
    "else:\n",
    "  print(\"out of range\")"
   ]
  },
  {
   "cell_type": "markdown",
   "metadata": {},
   "source": [
    "## Q3"
   ]
  },
  {
   "cell_type": "code",
   "execution_count": 23,
   "metadata": {},
   "outputs": [
    {
     "name": "stdout",
     "output_type": "stream",
     "text": [
      "greater\n"
     ]
    }
   ],
   "source": [
    "num1 = int(input())\n",
    "num2 = int(input())\n",
    "sum_ = num1 + num2\n",
    "if sum_ > 20:\n",
    "  print(\"greater\")\n",
    "else:\n",
    "  print(\"not greater\")"
   ]
  },
  {
   "cell_type": "markdown",
   "metadata": {},
   "source": [
    "## Q4"
   ]
  },
  {
   "cell_type": "code",
   "execution_count": 26,
   "metadata": {},
   "outputs": [
    {
     "name": "stdout",
     "output_type": "stream",
     "text": [
      "Two colors match\n"
     ]
    }
   ],
   "source": [
    "color1 = input()\n",
    "color2 = input()\n",
    "color3 = input()\n",
    "if color1 == color2 == color3:\n",
    "  print(\"All colors match\")\n",
    "elif color1 == color2 or color2 == color3 or color3 == color1:\n",
    "  print(\"Two colors match\")\n",
    "else:\n",
    "  print(\"No colors match\")"
   ]
  },
  {
   "cell_type": "markdown",
   "metadata": {},
   "source": [
    "## Q5"
   ]
  },
  {
   "cell_type": "code",
   "execution_count": 28,
   "metadata": {},
   "outputs": [
    {
     "name": "stdout",
     "output_type": "stream",
     "text": [
      "0.7407407407407407\n"
     ]
    }
   ],
   "source": [
    "num1 = 4\n",
    "num2 = 5.4\n",
    "if type(num1) == str and type(num2) == str:\n",
    "  res = num1 + num2\n",
    "elif type(num1) == int and type(num2) == int:\n",
    "  res = num1 - num2\n",
    "elif type(num1) == int and type(num2) == float and num2 != 0:\n",
    "  res = num1 / num2\n",
    "elif type(num1) == int and type(num2) == float:\n",
    "  res = \"Cannot divide by zero\"\n",
    "else:\n",
    "  res = \"Invalid syntax\"\n",
    "print(res)"
   ]
  }
 ],
 "metadata": {
  "kernelspec": {
   "display_name": "base",
   "language": "python",
   "name": "python3"
  },
  "language_info": {
   "codemirror_mode": {
    "name": "ipython",
    "version": 3
   },
   "file_extension": ".py",
   "mimetype": "text/x-python",
   "name": "python",
   "nbconvert_exporter": "python",
   "pygments_lexer": "ipython3",
   "version": "3.9.13"
  },
  "orig_nbformat": 4
 },
 "nbformat": 4,
 "nbformat_minor": 2
}
